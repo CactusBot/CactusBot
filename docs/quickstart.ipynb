{
 "cells": [
  {
   "cell_type": "markdown",
   "metadata": {},
   "source": [
    "# Quickstart"
   ]
  },
  {
   "cell_type": "markdown",
   "metadata": {},
   "source": [
    "## Setup\n",
    "\n",
    "First, download and install [Python 3.4](https://www.python.org/download/releases/3.4.3/). This bot can also run on Python 3.3.\n",
    "\n",
    "Second, download (or `git clone`) CactusBot from [GitHub](https://github.com/CactusBot/CactusBot) to your computer.  Open a terminal inside the CactusBot folder and install the required dependencies.  We've saved you some typing by putting all the dependencies in a single `requirements.txt` file.\n",
    "\n",
    "```bash\n",
    "\n",
    "cd <path\\to\\CactusBot>\n",
    "pip install -r requirements.txt\n",
    "```\n"
   ]
  },
  {
   "cell_type": "markdown",
   "metadata": {},
   "source": [
    "## Starting CactusBot"
   ]
  },
  {
   "cell_type": "markdown",
   "metadata": {},
   "source": [
    "## Configure\n",
    "\n",
    "For first time users only, run the `cactusbot.py` file.  This will initialize a config file for you to enter your credentials. \n",
    "\n",
    "```bash\n",
    "# Inside /path/to/CactusBot\n",
    "\n",
    "python cactusbot.py\n",
    "```\n",
    "\n",
    "Add your beam account information to the generated `config.json` file (use quotes).   You can edit this file in a text editor:\n",
    "\n",
    "    - username: Your Beam username\n",
    "    - password: Your Beam password\n",
    "    - channel: Your Beam channel ID\n",
    "\n"
   ]
  },
  {
   "cell_type": "raw",
   "metadata": {
    "raw_mimetype": "text/restructuredtext"
   },
   "source": [
    ".. note::\n",
    "        \n",
    "    To find your channel ID, go to ``https://beam.pro/api/v1/channels/<username>``.  Search for ``\"id\"``, and use that number, e.g. ``12345`` is the channel ID in ``{\"id\":12345,\"token\":\"<username>\",\"online\":false,\"featured\":false, ...}``"
   ]
  },
  {
   "cell_type": "markdown",
   "metadata": {},
   "source": [
    "## Run\n",
    "\n",
    "Finally go to your channel page, then run `cactusbot.py` in your terminal.  \n",
    "\n",
    "```bash\n",
    "python cactusbot.py\n",
    "```\n",
    "\n",
    "Test the bot by typing a command in the chat.  You should be ready to go!"
   ]
  }
 ],
 "metadata": {
  "celltoolbar": "Raw Cell Format",
  "kernelspec": {
   "display_name": "Python 3",
   "language": "python",
   "name": "python3"
  },
  "language_info": {
   "codemirror_mode": {
    "name": "ipython",
    "version": 3
   },
   "file_extension": ".py",
   "mimetype": "text/x-python",
   "name": "python",
   "nbconvert_exporter": "python",
   "pygments_lexer": "ipython3",
   "version": "3.5.1"
  }
 },
 "nbformat": 4,
 "nbformat_minor": 0
}
